**Project Title**

Water Resource Management and Sustainable Usage Analysis

**Problem Statement**

Water scarcity is becoming a critical global issue, with increasing demand from agriculture, industry, and domestic use. Efficient water resource management can help optimize usage, reduce waste, and ensure equitable distribution across regions. This project aims to analyze global water withdrawal patterns (agriculture, industry, domestic) using available datasets (FAO AQUASTAT, World Bank, etc.), to identify high-pressure regions, forecast future risks, and suggest sustainable management strategies.

**Description**

This project uses datasets on water withdrawals (as % of renewable water resources, by sector and country).
The goal is to:

Identify patterns in agricultural, industrial, and domestic water use.

Highlight regions facing severe water stress.

Build predictive models for water demand and risk classification.

Provide insights for sustainable water policies and conservation strategies.

The insights can support decision-making for governments, NGOs, and environmental agencies, enabling better water allocation, drought risk mitigation, and long-term sustainability planning.

import pandas as pd
import numpy as np
import matplotlib.pyplot as plt
import seaborn as sns

from sklearn.model_selection import train_test_split, GridSearchCV
from sklearn.preprocessing import LabelEncoder, StandardScaler
from sklearn.ensemble import RandomForestClassifier
from sklearn.linear_model import LogisticRegression
from sklearn.metrics import classification_report, confusion_matrix, accuracy_score
from sklearn.model_selection import cross_val_score
import joblib



print(df.info())
print(df.describe())
print(df.isnull().sum())

df['ph'] = df['ph'].replace(0, np.nan)

df['ph'].fillna(df['ph'].median(), inplace=True)
df['Sulfate'].fillna(df['Sulfate'].median(), inplace=True)
df['Trihalomethanes'].fillna(df['Trihalomethanes'].median(), inplace=True)

print("Missing values after cleaning:\n", df.isnull().sum())
print("\nDataset summary after cleaning:\n", df.describe())

**Week 2** 
import matplotlib.pyplot as plt
import seaborn as sns
from sklearn.preprocessing import StandardScaler
from sklearn.ensemble import RandomForestClassifier
import pandas as pd

df.hist(bins=30, figsize=(15, 10))
plt.show()

plt.figure(figsize=(15, 8))
sns.boxplot(data=df)
plt.xticks(rotation=45)
plt.show()

plt.figure(figsize=(10, 6))
sns.heatmap(df.corr(), annot=True, cmap="coolwarm", fmt=".2f")
plt.title("Correlation Heatmap")
plt.show()

X = df.drop("Potability", axis=1)
y = df["Potability"]

scaler = StandardScaler()
X_scaled = scaler.fit_transform(X)

print("Shape of transformed features:", X_scaled.shape)

cor_matrix = df.corr()
high_corr_features = cor_matrix.index[abs(cor_matrix["Potability"]) > 0.05]
print("Features moderately correlated with Potability:\n", high_corr_features)

rf = RandomForestClassifier(random_state=42)
rf.fit(X_scaled, y)

importances = rf.feature_importances_
feature_importance = pd.DataFrame({
    "Feature": X.columns,
    "Importance": importances
}).sort_values(by="Importance", ascending=False)

print(feature_importance)

plt.figure(figsize=(10, 6))
sns.barplot(x="Importance", y="Feature", data=feature_importance)
plt.title("Feature Importance (Random Forest)")
plt.show()




